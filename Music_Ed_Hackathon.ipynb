{
 "cells": [
  {
   "cell_type": "code",
   "execution_count": 5,
   "metadata": {
    "collapsed": false
   },
   "outputs": [],
   "source": [
    "from retrieve_model_tools import retrieve_NGram, retrieve_SkipGramNN\n",
    "from dynamic_programming_tools import shortest_path"
   ]
  },
  {
   "cell_type": "code",
   "execution_count": 6,
   "metadata": {
    "collapsed": true
   },
   "outputs": [
    {
     "name": "stdout",
     "output_type": "stream",
     "text": [
      "regularize_0-learn_rate_0.00-use_letternames_1-bigram_0-opt_algorithm_cg-max_iter_2000-retrieve_model_0-window_1-duplicate_by_rotate_0-layer1_sz_20-ba-2015-09-26_14-06-37\n",
      "...retrieve_NGram fname bigram-rock.pkl\n",
      "Ngram fpath data/bigram-rock.pkl\n",
      "retrieve_NGram, # of syms 122\n",
      "regularize_0-learn_rate_0.00-use_letternames_1-bigram_0-opt_algorithm_cg-max_iter_2000-retrieve_model_0-window_1-duplicate_by_rotate_0-layer1_sz_20-ba-2015-09-26_14-06-38\n",
      "...SkipGramNNWrapper, directory /Users/czhuang/Dropbox/MuseAmi/dev/Music_Education_Hackathon_Workshop\n",
      "fname:  data/embedding-rock-rn-10-500.pkl\n",
      "SkipGramNNWrapper, # of syms 122\n"
     ]
    }
   ],
   "source": [
    "ngram = retrieve_NGram()\n",
    "nn = retrieve_SkipGramNN()"
   ]
  },
  {
   "cell_type": "code",
   "execution_count": 7,
   "metadata": {
    "collapsed": false,
    "scrolled": false
   },
   "outputs": [
    {
     "name": "stdout",
     "output_type": "stream",
     "text": [
      "set(['Fmaj7', 'G#o7', 'G7', 'Bm', 'G9', 'E-m', 'B-7', 'G-', 'D', 'B-/F', 'F#m7', 'B-/D', 'B--7', 'CmM7', 'E-7', 'E7', 'CmM9', 'E-/B-', 'B-', 'D/F#', 'B7', 'B-m7', 'Gm', 'CmM7/B', 'Gsus4', 'Gm7/B-', 'E/G#', 'E-', 'F#o7', 'A/C#', 'C/E', 'C/G', 'Dm7/F', 'Dm7/A', 'A-7', 'C', 'G', 'F#o7/E-', 'G+11', 'G7/F', 'G7/D', 'G7/B', 'Em', 'F#dim', 'E7/G#', 'Em7', 'Cmaj7', 'Dm7', 'Em/G', 'Dm9', 'Em/B', 'FM9', 'Am/C', 'Am/E', 'C7', 'Fm', 'B', 'F', 'Em7/G', 'E-/G', 'Gm7', 'C#dim', 'G11', 'Cm', 'F7', 'A-/C', 'G/D', 'Gm/B-', 'G/B', 'Am9', 'F#', 'Bm7', 'Am7', 'Bm/F#', 'Cm/E-', 'Ddim', 'Fmaj7/C', 'Fmaj7/A', 'E/B', 'Dm', 'A-', 'A7', 'F#o7/C', 'A9', 'A', 'Bo7/A-', 'E', 'FmM7/A-', 'FmM7', 'Gm/D', 'C7/B-', 'D-', 'Fm/C', 'Am', 'F/A', 'F/C', 'D7'])\n"
     ]
    }
   ],
   "source": [
    "print set(ngram.syms)"
   ]
  },
  {
   "cell_type": "code",
   "execution_count": 8,
   "metadata": {
    "collapsed": false
   },
   "outputs": [
    {
     "name": "stdout",
     "output_type": "stream",
     "text": [
      "['C', 'E', 'Am', 'Dm', 'C']\n",
      "['G', 'C', 'G', 'F', 'G7']\n",
      "['Cm', 'F7', 'Cm', 'Gm', 'Dm']\n",
      "['C', 'Dm', 'B-', 'F', 'Cm']\n",
      "['Cm', 'A-', 'Cm', 'A-', 'Cm']\n",
      "['Gsus4', 'Fmaj7/C', 'A-/C', 'E/B', 'Gm7']\n",
      "['C', 'Am', 'C', 'F', 'C']\n"
     ]
    }
   ],
   "source": [
    "# Randomly generate chord sequences\n",
    "seqs = [ngram.gen_seq(5) for i in range(7)]\n",
    "for seq in seqs: print seq"
   ]
  },
  {
   "cell_type": "code",
   "execution_count": 9,
   "metadata": {
    "collapsed": false
   },
   "outputs": [
    {
     "name": "stdout",
     "output_type": "stream",
     "text": [
      "['Cm', 'F', 'G', 'F#o7/C', 'C', 'B-', 'Cm']\n"
     ]
    }
   ],
   "source": [
    "# Fix certain chords and solve for the most optimal sequence\n",
    "# TODO: could also sample ...\n",
    "fixed = {0:'Cm', 3:'F#o7/C', 6:'Cm'}\n",
    "seq, _ = shortest_path(ngram, fixed)\n",
    "print seq"
   ]
  },
  {
   "cell_type": "code",
   "execution_count": 10,
   "metadata": {
    "collapsed": false
   },
   "outputs": [
    {
     "name": "stdout",
     "output_type": "stream",
     "text": [
      "[('F7', 0.7790095328251944), ('F/A', 0.6653293684135009), ('A-', 0.5924704158092344)]\n"
     ]
    }
   ],
   "source": [
    "# Query what chords are considered similar\n",
    "chs = nn.most_similar('F')\n",
    "print chs"
   ]
  },
  {
   "cell_type": "code",
   "execution_count": 11,
   "metadata": {
    "collapsed": false
   },
   "outputs": [
    {
     "name": "stdout",
     "output_type": "stream",
     "text": [
      "[('E-', 0.7526945120967439), ('Gm', 0.7243736027470851), ('G/B', 0.6465763195449021)]\n"
     ]
    }
   ],
   "source": [
    "chs = nn.most_similar('B-')\n",
    "print chs"
   ]
  },
  {
   "cell_type": "code",
   "execution_count": 12,
   "metadata": {
    "collapsed": false
   },
   "outputs": [
    {
     "name": "stdout",
     "output_type": "stream",
     "text": [
      "original seq: ['Cm', 'F', 'G', 'F#o7/C', 'C', 'B-', 'Cm']\n",
      "transformed:  ['Cm', 'F', 'A-7', 'Cm', 'C', 'B-', 'Cm']\n",
      "transformed:  ['Cm', 'C', 'Dm7', 'G', 'C', 'B-', 'Cm']\n",
      "transformed:  ['Cm', 'Cm', 'A-', 'Cm', 'C', 'B-', 'Cm']\n"
     ]
    }
   ],
   "source": [
    "# Transform the seq\n",
    "original_seq = ['Cm', 'F', 'G', 'F#o7/C', 'C', 'B-', 'Cm']\n",
    "# want to change the second chord 'F'\n",
    "sub_ind = 2\n",
    "chs = nn.most_similar(original_seq[sub_ind])\n",
    "transformations = []\n",
    "for ch in chs:\n",
    "    fixed = {sub_ind:ch[0]}\n",
    "    lb = sub_ind - 1\n",
    "    if lb >= 0:\n",
    "        fixed[lb] = original_seq[lb]\n",
    "    ub = sub_ind + 1\n",
    "    if ub < len(original_seq):\n",
    "        fixed[ub] = original_seq[ub]\n",
    "    seq, _ = shortest_path(ngram, fixed, sub_ind, original_seq=original_seq)\n",
    "    transformations.append(seq)\n",
    "print 'original seq:', original_seq\n",
    "for seq in transformations:\n",
    "    print 'transformed: ', seq"
   ]
  },
  {
   "cell_type": "code",
   "execution_count": null,
   "metadata": {
    "collapsed": true
   },
   "outputs": [],
   "source": []
  }
 ],
 "metadata": {
  "kernelspec": {
   "display_name": "Python 2",
   "language": "python",
   "name": "python2"
  },
  "language_info": {
   "codemirror_mode": {
    "name": "ipython",
    "version": 2
   },
   "file_extension": ".py",
   "mimetype": "text/x-python",
   "name": "python",
   "nbconvert_exporter": "python",
   "pygments_lexer": "ipython2",
   "version": "2.7.10"
  }
 },
 "nbformat": 4,
 "nbformat_minor": 0
}
